{
 "cells": [
  {
   "cell_type": "code",
   "execution_count": 2,
   "id": "f18a4fa2",
   "metadata": {},
   "outputs": [],
   "source": [
    "import os\n",
    "import numpy as np\n",
    "import pandas as pd\n",
    "import pickle\n",
    "from scipy.optimize import least_squares\n",
    "from scipy.special import kv"
   ]
  },
  {
   "cell_type": "markdown",
   "id": "b3c0a887",
   "metadata": {},
   "source": [
    "Load the results from HALS generated with \"04_HALS_strain.ipynb\" and \"04_HALS_head.ipynb\""
   ]
  },
  {
   "cell_type": "code",
   "execution_count": 3,
   "id": "f3997db5",
   "metadata": {},
   "outputs": [
    {
     "data": {
      "text/plain": [
       "dict_keys(['complex', 'amp_head', 'phase_head', 'amp_strain', 'phase_strain'])"
      ]
     },
     "execution_count": 3,
     "metadata": {},
     "output_type": "execute_result"
    }
   ],
   "source": [
    "# Load results\n",
    "\n",
    "path = 'Results/pkl_files/'\n",
    "\n",
    "with open(path + 'head.pkl', 'rb') as f:\n",
    "    head = pickle.load(f)\n",
    "    \n",
    "with open(path + 'strain.pkl', 'rb') as f:\n",
    "    strain = pickle.load(f)\n",
    "    \n",
    "# Merge in one dic\n",
    "strain['amp_strain'] = strain.pop('amp')\n",
    "strain['phase_strain'] = strain.pop('phase')\n",
    "head['amp_head'] = head.pop('amp')\n",
    "head['phase_head'] = head.pop('phase')\n",
    "\n",
    "\n",
    "data = {**head, **strain}\n",
    "\n",
    "data.keys()"
   ]
  },
  {
   "cell_type": "markdown",
   "id": "4daa8a12",
   "metadata": {},
   "source": [
    "Compute phase amplitude ratio and phase shift"
   ]
  },
  {
   "cell_type": "code",
   "execution_count": 4,
   "id": "5da16ab6",
   "metadata": {},
   "outputs": [],
   "source": [
    "# Compute amplitude ratio\n",
    "amp_ratio = data['amp_head'] / ((data['amp_strain'] * 1E-9))\n",
    "\n",
    "# Compute phase shift\n",
    "phase_shift = np.rad2deg(data['phase_strain'] - data['phase_head'])"
   ]
  },
  {
   "cell_type": "markdown",
   "id": "f0ffd117",
   "metadata": {},
   "source": [
    "Now we script a function to invert Wang, 2018 analytical solution"
   ]
  },
  {
   "cell_type": "code",
   "execution_count": 5,
   "id": "839e388e",
   "metadata": {},
   "outputs": [],
   "source": [
    "# Functions that are in Wang 2018 solution. We write it this way to keep it clean\n",
    "\n",
    "def omega_fn(PERIOD):\n",
    "    params = 2 * np.pi / PERIOD\n",
    "    return params\n",
    "\n",
    "def betta_fn(K_LE, K_AQ, B_AQ, B_LE, omega, S_AQ):\n",
    "    params = ((K_LE / (K_AQ * B_AQ * B_LE)) + ((1j * omega * S_AQ * B_AQ) / (K_AQ * B_AQ))) ** 0.5\n",
    "    return params\n",
    "\n",
    "def argument_fn(omega, S_AQ, B_AQ, K_LE, B_LE):\n",
    "    params = (1j * omega * S_AQ * B_AQ) / (1j * omega * S_AQ * B_AQ + K_LE / B_LE)\n",
    "    return params\n",
    "\n",
    "def tide_fn(S_AQ, E_0):\n",
    "    params = (E_0) / (S_AQ)\n",
    "    return params\n",
    "\n",
    "def xi_fn(R_W, R_C, omega, K_AQ, B_AQ, betta):\n",
    "    params = 1 + ((1j * omega * R_W) / (2 * K_AQ * B_AQ * betta)) * (kv(0, betta * R_W) / kv(1, betta * R_W)) * (R_C / R_W)**2\n",
    "    return params\n",
    "\n",
    "def h_w_fn(argument, tide, xi):\n",
    "    params = argument * tide / xi\n",
    "    return params\n",
    "\n",
    "def drawdown_fn(omega, R_C, h_w, betta, K_AQ, B_AQ, R):\n",
    "    params = -(1j * omega * R_C ** 2 * h_w * kv(0, betta * R)) / (2 * K_AQ * B_AQ * betta * R_W * kv(1, betta * R))\n",
    "    return params\n",
    "\n",
    "def flux_fn(omega, h_w,  R_C):\n",
    "    params = omega * np.absolute(h_w) * np.pi * R_C**2 *1E3\n",
    "    return params\n",
    "\n",
    "# Wang 2018 solution\n",
    "def wang_2018(K_AQ, S_AQ, K_LE):\n",
    "    \n",
    "    omega = omega_fn(PERIOD)\n",
    "    betta = betta_fn(K_LE, K_AQ, B_AQ, B_LE, omega, S_AQ)\n",
    "    argument = argument_fn(omega, S_AQ, B_AQ, K_LE, B_LE)\n",
    "    tide = tide_fn(S_AQ, E_0)\n",
    "    xi = xi_fn(R_W, R_C, omega, K_AQ, B_AQ, betta)\n",
    "    h_w = h_w_fn(argument, tide, xi)\n",
    "    amp = h_w / tide \n",
    "    shift = np.angle(h_w / tide, deg=True)\n",
    "    \n",
    "    return amp.real, shift.real\n",
    "\n",
    "# Inversion function to apply least squares\n",
    "def inv_wang(vars):\n",
    "    \n",
    "    K_AQ, S_AQ, K_LE = vars\n",
    "    \n",
    "    omega = omega_fn(PERIOD)\n",
    "    betta = betta_fn(K_LE, K_AQ, B_AQ, B_LE, omega, S_AQ)\n",
    "    argument = argument_fn(omega, S_AQ, B_AQ, K_LE, B_LE)\n",
    "    tide = tide_fn(S_AQ, E_0)\n",
    "    xi = xi_fn(R_W, R_C, omega, K_AQ, B_AQ, betta)\n",
    "    h_w = h_w_fn(argument, tide, xi)\n",
    "    \n",
    "    amp = h_w / tide \n",
    "    shift = np.angle(h_w / tide, deg=True)\n",
    "    \n",
    "    # Here we build the objective functions. Note that amp_obs and shift_obs are the observed\n",
    "    # amplitude ratio and shift contained in \"amp_ratio\" and  \"phase_shift\" respectively.\n",
    "\n",
    "    opt_amplitude = float((amp.real - amp_obs*S_AQ)/amp_obs*S_AQ)\n",
    "    opt_shift = float((shift.real - shift_obs)/shift_obs)\n",
    "    FO = (opt_amplitude) + (opt_shift)\n",
    "\n",
    "    return [FO]\n"
   ]
  },
  {
   "cell_type": "code",
   "execution_count": 6,
   "id": "438b257d",
   "metadata": {},
   "outputs": [],
   "source": [
    "# These are the borehole geometry properties\n",
    "\n",
    "r_w = np.array([156, 203]) * 1E-3 / 2 # radius\n",
    "r_c = r_w # radius of the case\n",
    "#b_aq = np.array([12, 28]) # aquifer depth\n",
    "b_aq = np.array([4, 6]) # aquifer depth\n",
    "b_le = np.array([25, 28]) # aquitard depth\n",
    "F = np.ones((5)) * 1.97322 # frequency of the M2 tide\n",
    "period = 1/F * 24 * 3600 # period of the M2 tide\n",
    "\n",
    "# Now we choose which borehole we would like to study\n",
    "\n",
    "borehole = 0 # 0 = B1\n",
    "\n",
    "amp_obs = amp_ratio.iloc[0][borehole]\n",
    "shift_obs = phase_shift.iloc[0][borehole]\n",
    "\n",
    "R_W = r_w[borehole]\n",
    "R_C = r_c[borehole]\n",
    "PERIOD = period[borehole]\n",
    "B_AQ = b_aq[borehole]\n",
    "B_LE = b_le[borehole]\n",
    "E_0 = 1E-7 # Signal amplitude [-] (this amplitude is unrealistic, but convinient for this example)\n"
   ]
  },
  {
   "cell_type": "code",
   "execution_count": 7,
   "id": "84a9874d",
   "metadata": {},
   "outputs": [],
   "source": [
    "###### ---                                  --- ######\n",
    "\n",
    "# B1 init conditions\n",
    "K_init = 1.1E-5 # hydraulic conductivity aquifer\n",
    "S_init = 1.8E-6 # specific storage at constant strain\n",
    "KL_init = 5.4E-8# 1E-8 # vertical hydraulic conductivity aquitard\n",
    "\n",
    "# B2 init conditions\n",
    "#K_init = 1.5E-5 # hydraulic conductivity aquifer\n",
    "#S_init = 1.8E-6 # specific storage at constant strain\n",
    "#KL_init = 1.E-20 # vertical hydraulic conductivity aquitard"
   ]
  },
  {
   "cell_type": "code",
   "execution_count": 8,
   "id": "600f6446",
   "metadata": {},
   "outputs": [
    {
     "name": "stdout",
     "output_type": "stream",
     "text": [
      "Aquifer hydraulic conductivity:  1.0998860704071588e-05\n",
      "Specific storage at constant strain:  1.785514435399761e-06\n",
      "Aquitard hydraulic conductivity:  2.022027908531787e-08\n",
      "----------\n",
      "Found ampliturde ratio:  0.6472238288515514\n",
      "Real ampliturde ratio:  0.15369662380238952\n",
      "Found phase shift:  33.82973585306424\n",
      "Real phase shift:  33.82970961411824\n",
      "----------\n",
      "Goodness of the search:  7.756286595672479e-07\n"
     ]
    }
   ],
   "source": [
    "# Least squares search\n",
    "\n",
    "P = least_squares(inv_wang, (K_init, S_init, KL_init), jac = '3-point')#, bounds=([1E-10, 1E-7, 1E-200], [1E-2, 1.8E-6, 1E-6]))\n",
    "\n",
    "print('Aquifer hydraulic conductivity: ', P.x[0])\n",
    "print('Specific storage at constant strain: ', P.x[1])\n",
    "print('Aquitard hydraulic conductivity: ', P.x[2])\n",
    "\n",
    "print('----------')\n",
    "\n",
    "found_res = wang_2018(P.x[0], P.x[1], P.x[2])\n",
    "\n",
    "print('Found ampliturde ratio: ', found_res[0])\n",
    "print('Real ampliturde ratio: ', amp_obs*P.x[1])\n",
    "\n",
    "print('Found phase shift: ', found_res[1])\n",
    "print('Real phase shift: ', shift_obs)\n",
    "\n",
    "print('----------')\n",
    "\n",
    "# Compute error of the search, i.e, final value of objetive function\n",
    "\n",
    "obj_amplitude = float(np.abs(found_res[0] - amp_obs*P.x[1])/amp_obs*P.x[1])\n",
    "obj_shift = float(np.abs(found_res[1] - shift_obs)/shift_obs)\n",
    "    \n",
    "obj_FO = np.abs(obj_amplitude) + np.abs(obj_shift)\n",
    "\n",
    "print('Goodness of the search: ', obj_FO)\n"
   ]
  },
  {
   "cell_type": "code",
   "execution_count": null,
   "id": "0f96ad89",
   "metadata": {},
   "outputs": [],
   "source": []
  }
 ],
 "metadata": {
  "kernelspec": {
   "display_name": "Python 3 (ipykernel)",
   "language": "python",
   "name": "python3"
  },
  "language_info": {
   "codemirror_mode": {
    "name": "ipython",
    "version": 3
   },
   "file_extension": ".py",
   "mimetype": "text/x-python",
   "name": "python",
   "nbconvert_exporter": "python",
   "pygments_lexer": "ipython3",
   "version": "3.10.9"
  }
 },
 "nbformat": 4,
 "nbformat_minor": 5
}

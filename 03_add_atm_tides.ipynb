{
 "cells": [
  {
   "cell_type": "code",
   "execution_count": 8,
   "id": "e6aea600",
   "metadata": {},
   "outputs": [],
   "source": [
    "# Jun 3rd 2022\n",
    "# Author: Jose Bastias\n",
    "# Description: Python code to add atmospheric tide to the Mary Wildman dataset. \n",
    "# Actions: \n",
    "#          1.- Read the original the interpolated data set as pickle\n",
    "#          2.- Load baro tide and interpolate\n",
    "#          3.- Save"
   ]
  },
  {
   "cell_type": "code",
   "execution_count": 16,
   "id": "46ff2739",
   "metadata": {},
   "outputs": [],
   "source": [
    "import pandas as pd\n",
    "import matplotlib.pyplot as plt\n",
    "import numpy as np\n",
    "from hampel import hampel\n",
    "import pickle\n",
    "import pygtide\n",
    "\n",
    "plt.style.use('ggplot')\n",
    "myColor  = (\"#E3072A\",\"#0A8974\",\"#5FAECC\",\"#E49C23\",\"#E27520\") # Darjeeling Color map"
   ]
  },
  {
   "cell_type": "markdown",
   "id": "74844635",
   "metadata": {},
   "source": [
    "We load the data file that we generated with \"02_data_interpolation_baro.ipynb\". But nothing to add as it was done before."
   ]
  },
  {
   "cell_type": "code",
   "execution_count": 17,
   "id": "9fe9c9d5",
   "metadata": {},
   "outputs": [
    {
     "data": {
      "text/plain": [
       "dict_keys(['B1', 'B2'])"
      ]
     },
     "execution_count": 17,
     "metadata": {},
     "output_type": "execute_result"
    }
   ],
   "source": [
    "# Load results\n",
    "\n",
    "path = 'Results/pkl_files/'\n",
    "\n",
    "with open(path + 'interpolated_data_baro.pkl', 'rb') as f:\n",
    "    data = pickle.load(f)\n",
    "data.keys()"
   ]
  },
  {
   "cell_type": "markdown",
   "id": "467df0d6",
   "metadata": {},
   "source": [
    "Add strain to ATM"
   ]
  },
  {
   "cell_type": "code",
   "execution_count": 18,
   "id": "d863ff2a",
   "metadata": {},
   "outputs": [],
   "source": [
    "# Load well coordinates\n",
    "\n",
    "path_resum = 'Baro_data/'\n",
    "\n",
    "resum = pd.read_excel(path_resum + 'mary_wildman_metadata_summary.xlsx')\n",
    "\n",
    "keys = data.keys()\n",
    "lati = np.zeros(len(keys))\n",
    "long = np.zeros(len(keys))\n",
    "height =np.zeros(len(keys))\n",
    "\n",
    "for i, key in enumerate(keys):\n",
    "    lati[i] = resum['Latitude'][i]\n",
    "    long[i] = resum['Longitude'][i]\n",
    "    height[i] = resum['Elevation_TOC [mAHD]'][i]"
   ]
  },
  {
   "cell_type": "code",
   "execution_count": 7,
   "id": "4cb0df07",
   "metadata": {},
   "outputs": [
    {
     "name": "stdout",
     "output_type": "stream",
     "text": [
      "ETERNA PREDICT v3.4 (10/02/2013) is calculating, please wait ...\n",
      "Finished after 2.759 s\n",
      "ETERNA PREDICT v3.4 (10/02/2013) is calculating, please wait ...\n",
      "Finished after 1.232 s\n",
      "ETERNA PREDICT v3.4 (10/02/2013) is calculating, please wait ...\n",
      "Finished after 2.303 s\n",
      "ETERNA PREDICT v3.4 (10/02/2013) is calculating, please wait ...\n",
      "Finished after 2.867 s\n",
      "ETERNA PREDICT v3.4 (10/02/2013) is calculating, please wait ...\n",
      "Finished after 2.842 s\n"
     ]
    }
   ],
   "source": [
    "#%% PyGTide: Calculate volumetric strain variations\n",
    "# To use Pygtide uncomment this section.\n",
    "\n",
    "#splrate = 3600\n",
    "\n",
    "#for i, key in enumerate(keys):\n",
    "    #%% create a PyGTide object\n",
    "#    pt = pygtide.pygtide()\n",
    "    \n",
    "    # Now we need to deal with the offset of +9.5 hours\n",
    "#    data[key].index = data[key].index - np.timedelta64(int(3600 * 9.5),'s')\n",
    "#    if key == 'RN039769':\n",
    "#        data[key].index = data[key].index - np.timedelta64(int(3600 * 10.5),'s')\n",
    "            \n",
    "    # Now we come back to 3600s spacing\n",
    "    # Resampling\n",
    "#    data[key] = data[key].resample('60T').mean()\n",
    "    # Interpolation\n",
    "#    data[key] = data[key].interpolate(method='polynomial', order=3)\n",
    "    \n",
    "#    duration = len(data[key]) + 24 # Add a day to fit the data\n",
    "#    start = data[key].index[0]\n",
    "    \n",
    "#    pt.predict(lati[i], long[i], height[i], start, duration, splrate, tidalcompo=6)\n",
    "#    et_grav = pt.results()\n",
    "    \n",
    "    # Now we find the first va<lue of the fild data in the computed strain\n",
    "#    inx_init = np.where(et_grav['UTC'].values == data[key].index[0])[0]\n",
    "#    inx_end = np.where(et_grav['UTC'].values == data[key].index[-1])[0]\n",
    "    \n",
    "    # We add the strain to the data set\n",
    "#    data[key]['vol_strain'] = et_grav[inx_init[0]:inx_end[0]+1]['Signal [nstr]'].values\n",
    "    "
   ]
  },
  {
   "cell_type": "code",
   "execution_count": 19,
   "id": "7b087187",
   "metadata": {},
   "outputs": [],
   "source": [
    "# Here we use the online tool.\n",
    "\n",
    "path = 'ETERNA_Strain/'\n",
    "\n",
    "with open(path + 'strain_to_atm.pkl', 'rb') as f:\n",
    "    dic = pickle.load(f)\n",
    "\n",
    "for i, key in enumerate(keys):\n",
    "    dic[key]['head[m]'] = data[key]['head[m]'].values"
   ]
  },
  {
   "cell_type": "code",
   "execution_count": 21,
   "id": "39ed996f",
   "metadata": {},
   "outputs": [],
   "source": [
    "# Save data\n",
    "\n",
    "path = 'Results/pkl_files/'\n",
    "\n",
    "with open(path + 'strain_to_atm.pkl', 'wb') as f:\n",
    "    pickle.dump(dic, f)"
   ]
  },
  {
   "cell_type": "code",
   "execution_count": null,
   "id": "b689d8c9",
   "metadata": {},
   "outputs": [],
   "source": []
  }
 ],
 "metadata": {
  "kernelspec": {
   "display_name": "Python 3 (ipykernel)",
   "language": "python",
   "name": "python3"
  },
  "language_info": {
   "codemirror_mode": {
    "name": "ipython",
    "version": 3
   },
   "file_extension": ".py",
   "mimetype": "text/x-python",
   "name": "python",
   "nbconvert_exporter": "python",
   "pygments_lexer": "ipython3",
   "version": "3.10.9"
  }
 },
 "nbformat": 4,
 "nbformat_minor": 5
}

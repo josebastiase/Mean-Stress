{
 "cells": [
  {
   "cell_type": "code",
   "execution_count": 29,
   "id": "dab665f5",
   "metadata": {},
   "outputs": [],
   "source": [
    "# Jun 3rd 2022\n",
    "# Author: Jose Bastias\n",
    "# Description: Python code to add tide strain to the Mary Wildman dataset. \n",
    "# Actions: \n",
    "#          1.- Read the original the interpolated data set as pickle\n",
    "#          2.- Compute volumetric strain\n",
    "#          3.- Save"
   ]
  },
  {
   "cell_type": "code",
   "execution_count": 1,
   "id": "efb2cb30",
   "metadata": {},
   "outputs": [],
   "source": [
    "import pandas as pd\n",
    "import matplotlib.pyplot as plt\n",
    "import numpy as np\n",
    "from hampel import hampel\n",
    "import pickle\n",
    "import pygtide\n",
    "\n",
    "plt.style.use('ggplot')\n",
    "myColor  = (\"#E3072A\",\"#0A8974\",\"#5FAECC\",\"#E49C23\",\"#E27520\") # Darjeeling Color map"
   ]
  },
  {
   "cell_type": "markdown",
   "id": "bd592fa6",
   "metadata": {},
   "source": [
    "We load the data file that we generated with \"02_data_interpolation.ipynb\""
   ]
  },
  {
   "cell_type": "code",
   "execution_count": 2,
   "id": "bf2a9749",
   "metadata": {},
   "outputs": [
    {
     "data": {
      "text/plain": [
       "dict_keys(['B1', 'B2'])"
      ]
     },
     "execution_count": 2,
     "metadata": {},
     "output_type": "execute_result"
    }
   ],
   "source": [
    "# Load results\n",
    "\n",
    "path = 'Results/pkl_files/'\n",
    "\n",
    "with open(path + 'interpolated_data.pkl', 'rb') as f:\n",
    "    data = pickle.load(f)\n",
    "data.keys()"
   ]
  },
  {
   "cell_type": "code",
   "execution_count": 3,
   "id": "3c2b4cfa",
   "metadata": {},
   "outputs": [],
   "source": [
    "# Load well coordinates\n",
    "\n",
    "path_resum = 'Baro_data/'\n",
    "\n",
    "resum = pd.read_excel(path_resum + 'mary_wildman_metadata_summary2.xlsx')\n",
    "\n",
    "keys = data.keys()\n",
    "lati = np.zeros(len(keys))\n",
    "long = np.zeros(len(keys))\n",
    "height =np.zeros(len(keys))\n",
    "\n",
    "for i, key in enumerate(keys):\n",
    "    lati[i] = resum['Latitude'][i]\n",
    "    long[i] = resum['Longitude'][i]\n",
    "    height[i] = resum['Elevation_TOC [mAHD]'][i]"
   ]
  },
  {
   "cell_type": "markdown",
   "id": "5511617f",
   "metadata": {},
   "source": [
    "From here two options; use pygtide (Python wrapper of ETERNA) or the online tool (https://groundwater.app/app.php?app=pygtide)"
   ]
  },
  {
   "cell_type": "code",
   "execution_count": null,
   "id": "8681980a",
   "metadata": {},
   "outputs": [],
   "source": [
    "#%% PyGTide: Calculate volumetric strain variations\n",
    "# To use Pygtide uncomment this section.\n",
    "\n",
    "splrate = 3600\n",
    "\n",
    "for i, key in enumerate(keys):\n",
    "    #%% create a PyGTide object\n",
    "    pt = pygtide.pygtide()\n",
    "    \n",
    "    # Now we need to deal with the offset of +9.5 hours\n",
    "    data[key].index = data[key].index - np.timedelta64(int(3600 * 9.5),'s')\n",
    "    if key == 'RN039769':\n",
    "        data[key].index = data[key].index - np.timedelta64(int(3600 * 10.5),'s')\n",
    "            \n",
    "    # Now we come back to 3600s spacing\n",
    "    # Resampling\n",
    "    data[key] = data[key].resample('60T').mean()\n",
    "    # Interpolation\n",
    "    data[key] = data[key].interpolate(method='polynomial', order=3)\n",
    "    \n",
    "    duration = len(data[key]) + 24 # Add a day to fit the data\n",
    "    start = data[key].index[0]\n",
    "    \n",
    "    pt.predict(lati[i], long[i], height[i], start, duration, splrate, tidalcompo=6)\n",
    "    et_grav = pt.results()\n",
    "    \n",
    "    # Now we find the first va<lue of the fild data in the computed strain\n",
    "    inx_init = np.where(et_grav['UTC'].values == data[key].index[0])[0]\n",
    "    inx_end = np.where(et_grav['UTC'].values == data[key].index[-1])[0]\n",
    "    \n",
    "    # We add the strain to the data set\n",
    "    data[key]['areal_strain'] = et_grav[inx_init[0]:inx_end[0]+1]['Signal [nstr]'].values"
   ]
  },
  {
   "cell_type": "code",
   "execution_count": 61,
   "id": "5a53bc7f",
   "metadata": {},
   "outputs": [],
   "source": [
    "# Save data\n",
    "\n",
    "path = 'Results/pkl_files/'\n",
    "\n",
    "with open(path + 'areal_strain_data.pkl', 'wb') as f:\n",
    "    pickle.dump(dic, f)"
   ]
  },
  {
   "cell_type": "code",
   "execution_count": null,
   "id": "76ac6450",
   "metadata": {},
   "outputs": [],
   "source": []
  }
 ],
 "metadata": {
  "kernelspec": {
   "display_name": "Python 3 (ipykernel)",
   "language": "python",
   "name": "python3"
  },
  "language_info": {
   "codemirror_mode": {
    "name": "ipython",
    "version": 3
   },
   "file_extension": ".py",
   "mimetype": "text/x-python",
   "name": "python",
   "nbconvert_exporter": "python",
   "pygments_lexer": "ipython3",
   "version": "3.10.9"
  }
 },
 "nbformat": 4,
 "nbformat_minor": 5
}

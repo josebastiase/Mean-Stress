{
 "cells": [
  {
   "cell_type": "code",
   "execution_count": 3,
   "id": "d11c2656",
   "metadata": {},
   "outputs": [],
   "source": [
    "import os\n",
    "import numpy as np\n",
    "import pandas as pd\n",
    "import pickle\n",
    "from scipy.optimize import least_squares"
   ]
  },
  {
   "cell_type": "markdown",
   "id": "7f3d3b46",
   "metadata": {},
   "source": [
    "Load the results from HALS generated with \"04_HALS_atm_baro.ipynb\" and \"04_HALS_head_baro.ipynb\"\n"
   ]
  },
  {
   "cell_type": "code",
   "execution_count": 4,
   "id": "97202793",
   "metadata": {},
   "outputs": [],
   "source": [
    "# Load results\n",
    "\n",
    "path = 'Results/pkl_files/'\n",
    "    \n",
    "with open(path + 'baro.pkl', 'rb') as f:\n",
    "    baro = pickle.load(f)\n",
    "    \n",
    "with open(path + 'strain_to_atm_r.pkl', 'rb') as f:\n",
    "    strain = pickle.load(f)\n",
    "\n",
    "with open(path + 'head_baro.pkl', 'rb') as f:\n",
    "    head_baro = pickle.load(f)"
   ]
  },
  {
   "cell_type": "markdown",
   "id": "3da8bba3",
   "metadata": {},
   "source": [
    "Decoupling between M2 and S2"
   ]
  },
  {
   "cell_type": "code",
   "execution_count": 5,
   "id": "e804ba67",
   "metadata": {},
   "outputs": [],
   "source": [
    "def S2_dis(Z_GW_S2, Z_GW_M2, Z_ET_S2, Z_ET_M2):\n",
    "    params = Z_GW_S2 - (Z_GW_M2 / Z_ET_M2) * Z_ET_S2\n",
    "    return params\n",
    "\n",
    "def R2P(x):\n",
    "    return abs(x), np.angle(x)\n",
    "\n",
    "Z_GW_S2_B1 = head_baro['complex']['B1'].loc['S2']\n",
    "Z_GW_M2_B1 = head_baro['complex']['B1'].loc['M2']\n",
    "\n",
    "Z_ET_S2_B1 = strain['complex']['B1'].loc['S2']\n",
    "Z_ET_M2_B1 = strain['complex']['B1'].loc['M2']\n",
    "\n",
    "Z_GW_S2_B2 = head_baro['complex']['B2'].loc['S2']\n",
    "Z_GW_M2_B2 = head_baro['complex']['B2'].loc['M2']\n",
    "\n",
    "Z_ET_S2_B2 = strain['complex']['B2'].loc['S2']\n",
    "Z_ET_M2_B2 = strain['complex']['B2'].loc['M2']\n",
    "\n",
    "S2_dis_B1 = S2_dis(Z_GW_S2_B1, Z_GW_M2_B1, Z_ET_S2_B1, Z_ET_M2_B1)\n",
    "S2_dis_B2 = S2_dis(Z_GW_S2_B2, Z_GW_M2_B2, Z_ET_S2_B2, Z_ET_M2_B2)\n",
    "\n",
    "Z_AT_GW_B1 = R2P(S2_dis_B1)\n",
    "Z_AT_GW_B2 = R2P(S2_dis_B2)\n",
    "\n",
    "head_baro['amp']['B1']['S2'] = Z_AT_GW_B1[0]\n",
    "head_baro['phase']['B1']['S2'] = Z_AT_GW_B1[1]\n",
    "\n",
    "head_baro['amp']['B2']['S2'] = Z_AT_GW_B2[0]\n",
    "head_baro['phase']['B2']['S2'] = Z_AT_GW_B2[1]"
   ]
  },
  {
   "cell_type": "code",
   "execution_count": 6,
   "id": "69798bd5",
   "metadata": {},
   "outputs": [
    {
     "data": {
      "text/plain": [
       "dict_keys(['complex', 'amp_head', 'phase_head', 'amp_baro', 'phase_baro'])"
      ]
     },
     "execution_count": 6,
     "metadata": {},
     "output_type": "execute_result"
    }
   ],
   "source": [
    "# Merge in one dic\n",
    "baro['amp_baro'] = baro.pop('amp')\n",
    "baro['phase_baro'] = baro.pop('phase')\n",
    "\n",
    "head_baro['amp_head'] = head_baro.pop('amp') \n",
    "head_baro['phase_head'] = head_baro.pop('phase')\n",
    "\n",
    "strain['amp_str'] = strain.pop('amp') \n",
    "strain['phase_str'] = strain.pop('phase')\n",
    "\n",
    "data = {**head_baro, **baro}\n",
    "\n",
    "data.keys()"
   ]
  },
  {
   "cell_type": "markdown",
   "id": "183d3568",
   "metadata": {},
   "source": [
    "Compute phase amplitude ratio and phase shift\n"
   ]
  },
  {
   "cell_type": "code",
   "execution_count": 7,
   "id": "bd5885de",
   "metadata": {},
   "outputs": [],
   "source": [
    "amp_ratio = (data['amp_head']) / (data['amp_baro']*1E3/1E4) # Remeber, this is barometric efficiency and \n",
    "#pressure in Pa\n",
    "\n",
    "phase_shift = np.rad2deg(data['phase_head']-data['phase_baro'])\n"
   ]
  },
  {
   "cell_type": "markdown",
   "id": "a48f52c6",
   "metadata": {},
   "source": [
    "Now we call the new anayltical solution of this work"
   ]
  },
  {
   "cell_type": "code",
   "execution_count": 8,
   "id": "9077ae9e",
   "metadata": {},
   "outputs": [],
   "source": [
    "from scipy.special import kv\n",
    "\n",
    "# Functions\n",
    "def omega_fn(PERIOD):\n",
    "    params = 2 * np.pi / PERIOD\n",
    "    return params\n",
    "\n",
    "def betta_fn(K_LE, K_AQ, B_AQ, B_LE, omega, S_AQ):\n",
    "    params = ((K_LE / (K_AQ * B_AQ * B_LE)) + ((1j * omega * S_AQ * B_AQ) / (K_AQ * B_AQ))) ** 0.5\n",
    "    return params\n",
    "\n",
    "def argument_fn(omega, S_AQ, B_AQ, K_LE, B_LE):\n",
    "    params = (1j * omega * B_AQ) / (1j * omega * S_AQ * B_AQ + K_LE / B_LE)\n",
    "    return params\n",
    "\n",
    "def tide_fn(P_0, B):\n",
    "    params = ((P_0) / (3 * B)) # P_0 in metters and B in Pa so 10^4 to change units\n",
    "\n",
    "    return params\n",
    "\n",
    "def xi_fn(R_W, R_C, omega, K_AQ, B_AQ, betta):\n",
    "    params = 1 + ((1j * omega * R_W) / (2 * K_AQ * B_AQ * betta)) * (kv(0, betta * R_W) / kv(1, betta * R_W)) * (R_C / R_W)**2\n",
    "    return params\n",
    "\n",
    "def h_w_fn(argument, tide, xi):\n",
    "    params = argument * tide / xi\n",
    "    return params\n",
    "\n",
    "def drawdown_fn(omega, R_C, h_w, betta, K_AQ, B_AQ, R):\n",
    "    params = -(1j * omega * R_C ** 2 * h_w * kv(0, betta * R)) / (2 * K_AQ * B_AQ * betta * R_W * kv(1, betta * R))\n",
    "    return params\n",
    "\n",
    "def flux_fn(omega, h_w,  R_C):\n",
    "    params = omega * np.absolute(h_w) * np.pi * R_C**2 *1E3\n",
    "    return params\n",
    "\n",
    "def Ss_stress_fn(S_E, B):\n",
    "    params = S_E + 1E4 / B\n",
    "    return params\n",
    "\n",
    "def this_work(K_AQ, S_E, K_LE, B):\n",
    "    \n",
    "    S_AQ = Ss_stress_fn(S_E, B)\n",
    "    omega = omega_fn(PERIOD)\n",
    "    betta = betta_fn(K_LE, K_AQ, B_AQ, B_LE, omega, S_AQ)\n",
    "    argument = argument_fn(omega, S_AQ, B_AQ, K_LE, B_LE)\n",
    "    tide = tide_fn(P_0, B)\n",
    "    xi = xi_fn(R_W, R_C, omega, K_AQ, B_AQ, betta)\n",
    "    h_w = h_w_fn(argument, tide, xi)\n",
    "    \n",
    "    amp = (-P_0 / (B * S_AQ) + (P_0 * 1E-4) + h_w) / (P_0 * 1E-4)\n",
    "    shift = np.angle((-P_0 / (B * S_AQ) + (P_0 * 1E-4) + h_w) / (P_0 * 1E-4), deg=True)\n",
    "    \n",
    "    return amp.real, shift.real\n",
    "\n",
    "def inv_this_work(vars):\n",
    "    \n",
    "    K_AQ, S_E, K_LE, B = vars\n",
    "    \n",
    "    S_AQ = Ss_stress_fn(S_E, B)\n",
    "    omega = omega_fn(PERIOD)\n",
    "    betta = betta_fn(K_LE, K_AQ, B_AQ, B_LE, omega, S_AQ)\n",
    "    argument = argument_fn(omega, S_AQ, B_AQ, K_LE, B_LE)\n",
    "    tide = tide_fn(P_0, B)\n",
    "    xi = xi_fn(R_W, R_C, omega, K_AQ, B_AQ, betta)\n",
    "    h_w = h_w_fn(argument, tide, xi)\n",
    "    \n",
    "    amp = (-P_0 / (B * S_AQ) + (P_0 * 1E-4) + h_w) / (P_0 * 1E-4)\n",
    "    shift = np.angle((-P_0 / (B * S_AQ) + (P_0 * 1E-4) + h_w) / (P_0 * 1E-4), deg=True)\n",
    "    \n",
    "    amp = 1-amp\n",
    "    shift = 1-shift\n",
    "    \n",
    "    opt_amplitude = float((amp.real - amp_obs)/amp_obs)\n",
    "    opt_shift = float((shift.real - shift_obs)/shift_obs)\n",
    "    \n",
    "    FO = (opt_amplitude) + (opt_shift)\n",
    "    \n",
    "    return [FO]"
   ]
  },
  {
   "cell_type": "code",
   "execution_count": 14,
   "id": "4d99e522",
   "metadata": {},
   "outputs": [],
   "source": [
    "# These are the borehole geometry properties\n",
    "\n",
    "r_w = np.array([156, 203]) * 1E-3 / 2 # radius\n",
    "r_c = r_w # radius of the case\n",
    "#b_aq = np.array([4, 6]) # aquifer depth\n",
    "b_aq = np.array([12, 28]) # aquifer depth\n",
    "b_le = np.array([25, 28]) # aquitard depth\n",
    "F = np.ones((5)) * 1.97322 # frequency of the M2 tide\n",
    "period = 1/F * 24 * 3600 # period of the M2 tide\n",
    "p_0 = data['amp_baro'].iloc[[1]].values\n",
    "\n",
    "# Now we choose which borehole we would like to study!!\n",
    "\n",
    "borehole = 0 # 0 = B1\n",
    "\n",
    "amp_obs = amp_ratio.iloc[1][borehole]\n",
    "shift_obs = phase_shift.iloc[1][borehole]\n",
    "\n",
    "R_W = r_w[borehole]\n",
    "R_C = r_c[borehole]\n",
    "PERIOD = period[borehole]\n",
    "B_AQ = b_aq[borehole]\n",
    "B_LE = b_le[borehole]\n",
    "E_0 = 1E-7 # Signal amplitude [-] (this amplitude is unrealistic, but convinient for this example)\n",
    "P_0 = p_0[0][borehole] * 1E3\n"
   ]
  },
  {
   "cell_type": "code",
   "execution_count": 15,
   "id": "c8e551f4",
   "metadata": {},
   "outputs": [],
   "source": [
    "Earth_K_AQ = np.array([1.1E-5,1.0E-4])\n",
    "Earth_S_E = np.array([1.8E-6,5E-7])\n",
    "Earth_K_LE = np.array([5.4E-10,6E-8])\n",
    "\n",
    "###### ---                                  --- ######\n",
    "\n",
    "K_AQ_init = Earth_K_AQ[borehole]\n",
    "S_E_init = Earth_S_E[borehole]\n",
    "K_LE_init = Earth_K_LE[borehole]\n",
    "\n",
    "#B1\n",
    "B_init = 2E8\n",
    "\n",
    "#B2\n",
    "#B_init = 1E10\n",
    "\n",
    "# Initial conditions\n",
    "\n",
    "K_AQ_MAX = K_AQ_init * 1.5\n",
    "S_E_MAX = S_E_init * 1.5\n",
    "K_LE_MAX = K_LE_init * 1.5\n",
    "B_MAX = B_init * 1.5\n",
    "\n",
    "K_AQ_MIN = K_AQ_init *.5\n",
    "S_E_MIN = S_E_init *.5\n",
    "K_LE_MIN = K_LE_init *.5\n",
    "B_MIN = B_init *.5"
   ]
  },
  {
   "cell_type": "code",
   "execution_count": 17,
   "id": "b81ec030",
   "metadata": {},
   "outputs": [
    {
     "name": "stdout",
     "output_type": "stream",
     "text": [
      "Aquifer hydraulic conductivity:  1.6293530156854887e-05\n",
      "Specific storage at constant strain:  1.7999962499086762e-06\n",
      "Aquitard hydraulic conductivity:  8.099493120385284e-10\n",
      "Bulk modulus of the aquifer:  299388684.0778157\n",
      "----------\n",
      "Found ampliturde ratio:  0.36680133281754923\n",
      "Real ampliturde ratio:  0.822481356305684\n",
      "Found phase shift:  -0.7105842690667752\n",
      "Real phase shift:  -0.716769787895686\n",
      "----------\n",
      "Goodness of the search:  0.5626605386892811\n"
     ]
    }
   ],
   "source": [
    "# For B1\n",
    "P = least_squares(inv_this_work, (K_AQ_init, S_E_init, K_LE_init, B_init), jac = '3-point', bounds=([K_AQ_MIN, 4E-7, K_LE_MIN, B_MIN], [K_AQ_MAX, 1.8E-6, K_LE_MAX, B_MAX]))\n",
    "\n",
    "# For B2\n",
    "#P = least_squares(inv_this_work, (K_AQ_init, S_E_init, K_LE_init, B_init))#, jac = '3-point', bounds=([K_AQ_MIN, 4E-7, K_LE_MIN, B_MIN], [K_AQ_MAX, 1.8E-6, K_LE_MAX, B_MAX]))\n",
    "\n",
    "print('Aquifer hydraulic conductivity: ', P.x[0])\n",
    "print('Specific storage at constant strain: ', P.x[1])\n",
    "print('Aquitard hydraulic conductivity: ', P.x[2])\n",
    "print('Bulk modulus of the aquifer: ', P.x[3])\n",
    "\n",
    "print('----------')\n",
    "\n",
    "found_res = this_work(P.x[0], P.x[1], P.x[2], P.x[3])\n",
    "\n",
    "print('Found ampliturde ratio: ', found_res[0])\n",
    "print('Real ampliturde ratio: ', amp_obs)\n",
    "\n",
    "print('Found phase shift: ', found_res[1])\n",
    "print('Real phase shift: ', shift_obs)\n",
    "\n",
    "print('----------')\n",
    "\n",
    "# Compute error of the search, i.e, final value of objetive function\n",
    "\n",
    "obj_amplitude = float(np.abs(found_res[0] - amp_obs)/amp_obs)\n",
    "obj_shift = float(np.abs(found_res[1] - shift_obs)/shift_obs)\n",
    "    \n",
    "obj_FO = np.abs(obj_amplitude) + np.abs(obj_shift)\n",
    "\n",
    "print('Goodness of the search: ', obj_FO)"
   ]
  },
  {
   "cell_type": "code",
   "execution_count": null,
   "id": "569aaf5c",
   "metadata": {},
   "outputs": [],
   "source": []
  }
 ],
 "metadata": {
  "kernelspec": {
   "display_name": "Python 3 (ipykernel)",
   "language": "python",
   "name": "python3"
  },
  "language_info": {
   "codemirror_mode": {
    "name": "ipython",
    "version": 3
   },
   "file_extension": ".py",
   "mimetype": "text/x-python",
   "name": "python",
   "nbconvert_exporter": "python",
   "pygments_lexer": "ipython3",
   "version": "3.10.9"
  }
 },
 "nbformat": 4,
 "nbformat_minor": 5
}
